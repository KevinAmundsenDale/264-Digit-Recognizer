{
 "cells": [
  {
   "cell_type": "code",
   "execution_count": 1,
   "metadata": {},
   "outputs": [
    {
     "data": {
      "text/plain": [
       "{'divide': 'warn', 'over': 'warn', 'under': 'ignore', 'invalid': 'warn'}"
      ]
     },
     "execution_count": 1,
     "metadata": {},
     "output_type": "execute_result"
    }
   ],
   "source": [
    "import pandas as pd\n",
    "import numpy as np\n",
    "import matplotlib.pyplot as plt\n",
    "from sklearn.decomposition import PCA\n",
    "from imblearn.pipeline import Pipeline \n",
    "from imblearn import combine\n",
    "from imblearn import under_sampling\n",
    "from imblearn import over_sampling\n",
    "from sklearn import ensemble\n",
    "from sklearn import neural_network\n",
    "from sklearn import neighbors\n",
    "from sklearn import linear_model\n",
    "from sklearn.model_selection import GridSearchCV\n",
    "from sklearn.model_selection import train_test_split\n",
    "from sklearn import metrics\n",
    "np.seterr(divide='ignore', invalid='ignore')\n",
    "#svm.LinearSVC\n",
    "#neighbors.KNeighborsClassifier\n",
    "#neural_network.MLPClassifier\n",
    "#ensemble.RandomForestClassifier"
   ]
  },
  {
   "cell_type": "code",
   "execution_count": 2,
   "metadata": {},
   "outputs": [
    {
     "name": "stdout",
     "output_type": "stream",
     "text": [
      "(85273, 24, 24, 1)\n",
      "3\n"
     ]
    },
    {
     "data": {
      "image/png": "[encoded data removed]",
      "text/plain": [
       "<Figure size 640x480 with 1 Axes>"
      ]
     },
     "metadata": {},
     "output_type": "display_data"
    }
   ],
   "source": [
    "X = np.load(\"MNIST-images.npy\")\n",
    "y = np.load(\"MNIST-labels.npy\")\n",
    "print(X.shape)\n",
    "\n",
    "X = X.reshape(X.shape[0], 576)\n",
    "\n",
    "X_train, X_valTest, y_train, y_valTest = train_test_split(X, y, test_size=.3, random_state=42)\n",
    "\n",
    "X_train = X_train.reshape(59691, 24, 24)\n",
    "plt.imshow(X_train[42], cmap=\"Greys\")\n",
    "print(y_train[42])\n",
    "\n",
    "X_train = X_train.reshape(X_train.shape[0], 576)"
   ]
  },
  {
   "cell_type": "code",
   "execution_count": 3,
   "metadata": {},
   "outputs": [],
   "source": [
    "#explore = pd.DataFrame(data=y)\n",
    "#print(explore.value_counts())\n",
    "\n",
    "def preprocess(data):\n",
    "    X_train = np.array([np.squeeze(i) for i in data])\n",
    "\n",
    "    X_train[X_train >= 190] = 255\n",
    "    X_train[X_train < 190] = 0\n",
    "\n",
    "    # pca = PCA(n_components=.9)\n",
    "    # pca_arr = []\n",
    "    # for i in range(len(X_train)):\n",
    "    #     hold = [pca.fit_transform(X_train[i])]\n",
    "    #     pca_arr.append([pca.inverse_transform(hold[0])])\n",
    "\n",
    "    # X_train = np.array([np.squeeze(i) for i in pca_arr])\n",
    "\n",
    "    # X_train[X_train >= 190] = 255\n",
    "    # X_train[X_train < 190] = 0\n",
    "\n",
    "    return X_train\n",
    "\n",
    "#plt.imshow(preprocess(X_train)[42], cmap=\"Greys\")"
   ]
  },
  {
   "cell_type": "code",
   "execution_count": 4,
   "metadata": {},
   "outputs": [],
   "source": [
    "from sklearn.preprocessing import FunctionTransformer\n",
    "X_train = preprocess(X_train)\n",
    "pre_trans = FunctionTransformer(preprocess)"
   ]
  },
  {
   "cell_type": "code",
   "execution_count": 5,
   "metadata": {},
   "outputs": [
    {
     "name": "stdout",
     "output_type": "stream",
     "text": [
      "0     3778\n",
      "1     3778\n",
      "2     3778\n",
      "3     3778\n",
      "4     3778\n",
      "5     3778\n",
      "6     3778\n",
      "7     3778\n",
      "8     3778\n",
      "9     3778\n",
      "10    3778\n",
      "dtype: int64\n"
     ]
    }
   ],
   "source": [
    "smote = over_sampling.RandomOverSampler(sampling_strategy=\"minority\")\n",
    "X_train, y_train = smote.fit_resample(X_train , y_train)\n",
    "\n",
    "smote = under_sampling.RandomUnderSampler(sampling_strategy=\"all\")\n",
    "X_train, y_train = smote.fit_resample(X_train , y_train)\n",
    "\n",
    "X_val, X_test, y_val, y_test = train_test_split(X_valTest, y_valTest, test_size=.5, random_state=42)\n",
    "\n",
    "score = pd.DataFrame(np.array(y_val), columns = [\"actual\"])\n",
    "\n",
    "explore = pd.DataFrame(data=y_train)\n",
    "exploreX = pd.DataFrame(data=y_train)\n",
    "print(explore.value_counts())"
   ]
  },
  {
   "cell_type": "code",
   "execution_count": 7,
   "metadata": {},
   "outputs": [
    {
     "name": "stderr",
     "output_type": "stream",
     "text": [
      "c:\\Users\\Kevin\\anaconda3\\lib\\site-packages\\sklearn\\linear_model\\_logistic.py:814: ConvergenceWarning: lbfgs failed to converge (status=1):\n",
      "STOP: TOTAL NO. of ITERATIONS REACHED LIMIT.\n",
      "\n",
      "Increase the number of iterations (max_iter) or scale the data as shown in:\n",
      "    https://scikit-learn.org/stable/modules/preprocessing.html\n",
      "Please also refer to the documentation for alternative solver options:\n",
      "    https://scikit-learn.org/stable/modules/linear_model.html#logistic-regression\n",
      "  n_iter_i = _check_optimize_result(\n",
      "c:\\Users\\Kevin\\anaconda3\\lib\\site-packages\\sklearn\\linear_model\\_logistic.py:814: ConvergenceWarning: lbfgs failed to converge (status=1):\n",
      "STOP: TOTAL NO. of ITERATIONS REACHED LIMIT.\n",
      "\n",
      "Increase the number of iterations (max_iter) or scale the data as shown in:\n",
      "    https://scikit-learn.org/stable/modules/preprocessing.html\n",
      "Please also refer to the documentation for alternative solver options:\n",
      "    https://scikit-learn.org/stable/modules/linear_model.html#logistic-regression\n",
      "  n_iter_i = _check_optimize_result(\n",
      "c:\\Users\\Kevin\\anaconda3\\lib\\site-packages\\sklearn\\linear_model\\_logistic.py:814: ConvergenceWarning: lbfgs failed to converge (status=1):\n",
      "STOP: TOTAL NO. of ITERATIONS REACHED LIMIT.\n",
      "\n",
      "Increase the number of iterations (max_iter) or scale the data as shown in:\n",
      "    https://scikit-learn.org/stable/modules/preprocessing.html\n",
      "Please also refer to the documentation for alternative solver options:\n",
      "    https://scikit-learn.org/stable/modules/linear_model.html#logistic-regression\n",
      "  n_iter_i = _check_optimize_result(\n",
      "c:\\Users\\Kevin\\anaconda3\\lib\\site-packages\\sklearn\\linear_model\\_logistic.py:814: ConvergenceWarning: lbfgs failed to converge (status=1):\n",
      "STOP: TOTAL NO. of ITERATIONS REACHED LIMIT.\n",
      "\n",
      "Increase the number of iterations (max_iter) or scale the data as shown in:\n",
      "    https://scikit-learn.org/stable/modules/preprocessing.html\n",
      "Please also refer to the documentation for alternative solver options:\n",
      "    https://scikit-learn.org/stable/modules/linear_model.html#logistic-regression\n",
      "  n_iter_i = _check_optimize_result(\n",
      "c:\\Users\\Kevin\\anaconda3\\lib\\site-packages\\sklearn\\linear_model\\_logistic.py:814: ConvergenceWarning: lbfgs failed to converge (status=1):\n",
      "STOP: TOTAL NO. of ITERATIONS REACHED LIMIT.\n",
      "\n",
      "Increase the number of iterations (max_iter) or scale the data as shown in:\n",
      "    https://scikit-learn.org/stable/modules/preprocessing.html\n",
      "Please also refer to the documentation for alternative solver options:\n",
      "    https://scikit-learn.org/stable/modules/linear_model.html#logistic-regression\n",
      "  n_iter_i = _check_optimize_result(\n"
     ]
    }
   ],
   "source": [
    "models = {\n",
    "        'LogisticRegression'     : linear_model.LogisticRegression(),\n",
    "        'MLP'                    : neural_network.MLPClassifier(),\n",
    "        'RandomForestClassifier' : ensemble.RandomForestClassifier(),\n",
    "        'KNN'                    : neighbors.KNeighborsClassifier()}\n",
    "\n",
    "hyper = {\n",
    "        \n",
    "        'LogisticRegression':{\n",
    "                                    'penalty'     : ['l2'],\n",
    "                                    'C'           : np.logspace(0, 4, 10),\n",
    "                                    'solver'      : ['lbfgs', 'liblinear', 'saga'],\n",
    "                                    'class_weight': ['balanced'],\n",
    "                                    'random_state': [0]},\n",
    "        \n",
    "        'MLP':{\n",
    "                                    'hidden_layer_sizes' : [1, 10, 50, 100, 200, 500],},\n",
    "        \n",
    "        'RandomForestClassifier':{\n",
    "                                    'max_depth': [2, 3, 4],\n",
    "                                    'max_features': [2, 3, 4, 'auto', 'sqrt'],\n",
    "                                    'n_estimators': [10, 100, 500, 1000],\n",
    "                                    'class_weight': ['balanced'],\n",
    "                                    'random_state': [0]},\n",
    "       \n",
    "        'KNN':{\n",
    "                                    'n_neighbors': [5, 10, 15, 20],\n",
    "                                    'weights': ['uniform', 'distance']}\n",
    "                              \n",
    "                              \n",
    "    }\n",
    "\n",
    "\n",
    "for model_name in models.keys():\n",
    "\n",
    "  # Model selection\n",
    "  clf    = models[model_name]\n",
    "  params = hyper[model_name]\n",
    "\n",
    "  # Pipeline (standarization + classifier)\n",
    "  pipe = Pipeline([ ('PCA', PCA(.9)), ( 'clf', clf ) ])\n",
    " \n",
    "  # Gridsearch cross-validation\n",
    "  grid = GridSearchCV(estimator = clf, param_grid = params, cv = 5, return_train_score = True)\n",
    "  grid.fit(X_train, y_train)\n",
    "\n",
    "print(grid.best_params_)\n",
    "print(grid.best_estimator_)"
   ]
  },
  {
   "cell_type": "code",
   "execution_count": null,
   "metadata": {},
   "outputs": [
    {
     "name": "stdout",
     "output_type": "stream",
     "text": [
      "0.9067312954421077\n"
     ]
    },
    {
     "name": "stderr",
     "output_type": "stream",
     "text": [
      "c:\\Users\\Kevin\\anaconda3\\lib\\site-packages\\sklearn\\neighbors\\_classification.py:228: FutureWarning: Unlike other reduction functions (e.g. `skew`, `kurtosis`), the default behavior of `mode` typically preserves the axis it acts along. In SciPy 1.11.0, this behavior will change: the default value of `keepdims` will become False, the `axis` over which the statistic is taken will be eliminated, and the value None will no longer be accepted. Set `keepdims` to True or False to avoid this warning.\n",
      "  mode, _ = stats.mode(_y[neigh_ind, k], axis=1)\n"
     ]
    }
   ],
   "source": [
    "from sklearn.preprocessing import StandardScaler\n",
    "\n",
    "\n",
    "pipe = Pipeline([('PCA', PCA(.9)) , (\"model\", neighbors.KNeighborsClassifier())])\n",
    "pipe.fit(X_train, y_train)\n",
    "yeet = pipe.predict(X_val)\n",
    "print(metrics.accuracy_score(y_val, yeet))"
   ]
  },
  {
   "cell_type": "code",
   "execution_count": null,
   "metadata": {},
   "outputs": [
    {
     "name": "stdout",
     "output_type": "stream",
     "text": [
      "[(1, 0.9109530138378548)]\n"
     ]
    },
    {
     "name": "stderr",
     "output_type": "stream",
     "text": [
      "c:\\Users\\Kevin\\anaconda3\\lib\\site-packages\\sklearn\\neighbors\\_classification.py:228: FutureWarning: Unlike other reduction functions (e.g. `skew`, `kurtosis`), the default behavior of `mode` typically preserves the axis it acts along. In SciPy 1.11.0, this behavior will change: the default value of `keepdims` will become False, the `axis` over which the statistic is taken will be eliminated, and the value None will no longer be accepted. Set `keepdims` to True or False to avoid this warning.\n",
      "  mode, _ = stats.mode(_y[neigh_ind, k], axis=1)\n"
     ]
    }
   ],
   "source": [
    "#learn fast, but slow af in predict\n",
    "resultsKN = []\n",
    "for x in range(1):\n",
    "    x = x+1\n",
    "    svm1 = neighbors.KNeighborsClassifier(n_neighbors=x)\n",
    "    svm1.fit(X_train, y_train)\n",
    "    result = svm1.predict(X_val)\n",
    "\n",
    "    resultsKN.append((x,metrics.accuracy_score(y_val, result)))\n",
    "\n",
    "print(resultsKN)"
   ]
  },
  {
   "cell_type": "code",
   "execution_count": null,
   "metadata": {},
   "outputs": [
    {
     "name": "stdout",
     "output_type": "stream",
     "text": [
      "0.7854741615198186\n"
     ]
    }
   ],
   "source": [
    "svm1 = ensemble.RandomForestClassifier()\n",
    "svm1.fit(X_train, y_train)\n",
    "result = svm1.predict(X_val)\n",
    "print(metrics.accuracy_score(y_val, result))"
   ]
  },
  {
   "cell_type": "code",
   "execution_count": null,
   "metadata": {},
   "outputs": [
    {
     "name": "stdout",
     "output_type": "stream",
     "text": [
      "[(100, 0.21624579782659684)]\n"
     ]
    }
   ],
   "source": [
    "#slow af in learning\n",
    "results = []\n",
    "for x in range(1):\n",
    "    x = 99+1\n",
    "    svm1 = neural_network.MLPClassifier(hidden_layer_sizes=x)\n",
    "    svm1.fit(X_train, y_train)\n",
    "    result = svm1.predict(X_val)\n",
    "\n",
    "    results.append((x,metrics.accuracy_score(y_val, result)))\n",
    "print(results)\n"
   ]
  },
  {
   "cell_type": "code",
   "execution_count": null,
   "metadata": {},
   "outputs": [
    {
     "name": "stdout",
     "output_type": "stream",
     "text": [
      "0.1772339926510828\n"
     ]
    },
    {
     "name": "stderr",
     "output_type": "stream",
     "text": [
      "c:\\Users\\Kevin\\anaconda3\\lib\\site-packages\\sklearn\\linear_model\\_logistic.py:814: ConvergenceWarning: lbfgs failed to converge (status=1):\n",
      "STOP: TOTAL NO. of ITERATIONS REACHED LIMIT.\n",
      "\n",
      "Increase the number of iterations (max_iter) or scale the data as shown in:\n",
      "    https://scikit-learn.org/stable/modules/preprocessing.html\n",
      "Please also refer to the documentation for alternative solver options:\n",
      "    https://scikit-learn.org/stable/modules/linear_model.html#logistic-regression\n",
      "  n_iter_i = _check_optimize_result(\n"
     ]
    }
   ],
   "source": [
    "svm1 = linear_model.LogisticRegression()\n",
    "svm1.fit(X_train, y_train)\n",
    "result = svm1.predict(X_val)\n",
    "print(metrics.accuracy_score(y_val, result))"
   ]
  },
  {
   "cell_type": "code",
   "execution_count": null,
   "metadata": {},
   "outputs": [
    {
     "data": {
      "text/plain": [
       "'\\nmaxx = 0\\nmaxval = 0\\nfor x in range(len(results)):\\n    if (results[x][1] > maxval):\\n        maxval = results[x][1]\\n        maxx = x\\n\\nprint(maxval, maxx) #0.8716284887811743 96\\n'"
      ]
     },
     "execution_count": 467,
     "metadata": {},
     "output_type": "execute_result"
    }
   ],
   "source": [
    "\"\"\"\n",
    "maxx = 0\n",
    "maxval = 0\n",
    "for x in range(len(results)):\n",
    "    if (results[x][1] > maxval):\n",
    "        maxval = results[x][1]\n",
    "        maxx = x\n",
    "\n",
    "print(maxval, maxx) #0.8716284887811743 96\n",
    "\"\"\""
   ]
  }
 ],
 "metadata": {
  "kernelspec": {
   "display_name": "Python 3.9.13 ('base')",
   "language": "python",
   "name": "python3"
  },
  "language_info": {
   "codemirror_mode": {
    "name": "ipython",
    "version": 3
   },
   "file_extension": ".py",
   "mimetype": "text/x-python",
   "name": "python",
   "nbconvert_exporter": "python",
   "pygments_lexer": "ipython3",
   "version": "3.9.13"
  },
  "orig_nbformat": 4,
  "vscode": {
   "interpreter": {
    "hash": "9f4f70181dd95a9d562a70f836fcadba96ae89ae4a502bd83f1e00f915c26e41"
   }
  }
 },
 "nbformat": 4,
 "nbformat_minor": 2
}
